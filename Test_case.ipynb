{
 "cells": [
  {
   "cell_type": "code",
   "execution_count": null,
   "id": "3c9e4c3f-3fed-48c2-af41-ab01ff9ae64b",
   "metadata": {},
   "outputs": [],
   "source": [
    "import numpy as np\n",
    "import tensorflow as tf\n",
    "from tensorflow.keras.models import load_model\n",
    "from tensorflow.keras.preprocessing import image\n",
    "\n",
    "model = load_model('Models/InceptionV3_model.h5')\n",
    "\n",
    "\n",
    "\n",
    "\n",
    "def test_with_sample_image(img_path):\n",
    "    img = image.load_img(img_path, target_size=(299, 299))\n",
    "    img_array = image.img_to_array(img)\n",
    "    img_array = np.expand_dims(img_array, axis=0)\n",
    "    img_array = tf.keras.applications.inception_v3.preprocess_input(img_array)\n",
    "    \n",
    "    prediction = model.predict(img_array)\n",
    "    class_index = np.argmax(prediction)\n",
    "    \n",
    "    label_map = {0: 'COVID', 1: 'Normal', 2: 'Pneumonia'}\n",
    "    return label_map[class_index]\n",
    "\n",
    "\n",
    "\n",
    "\n",
    "\n",
    "sample_img = 'segmented_masks/COVID2_CT/25847 (2).jpg'  \n",
    "result = test_with_sample_image(sample_img)\n",
    "print(f\"The model predicts: {result}\")"
   ]
  }
 ],
 "metadata": {
  "kernelspec": {
   "display_name": "Python 3 (ipykernel)",
   "language": "python",
   "name": "python3"
  },
  "language_info": {
   "codemirror_mode": {
    "name": "ipython",
    "version": 3
   },
   "file_extension": ".py",
   "mimetype": "text/x-python",
   "name": "python",
   "nbconvert_exporter": "python",
   "pygments_lexer": "ipython3",
   "version": "3.12.3"
  }
 },
 "nbformat": 4,
 "nbformat_minor": 5
}
