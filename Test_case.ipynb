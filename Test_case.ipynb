{
 "cells": [
  {
   "cell_type": "code",
   "execution_count": 10,
   "id": "92b79b6c-3d2d-4702-a899-e77652084a84",
   "metadata": {},
   "outputs": [
    {
     "name": "stdout",
     "output_type": "stream",
     "text": [
      "--2024-11-26 14:02:31--  https://drive.google.com/uc?export=download&id=15x6qASDSgnl8wUZiuoPeUPV-poWj6n-t\n",
      "Resolving drive.google.com (drive.google.com)... 142.250.183.174, 2404:6800:4009:81f::200e\n",
      "Connecting to drive.google.com (drive.google.com)|142.250.183.174|:443... connected.\n",
      "HTTP request sent, awaiting response... 303 See Other\n",
      "Location: https://drive.usercontent.google.com/download?id=15x6qASDSgnl8wUZiuoPeUPV-poWj6n-t&export=download [following]\n",
      "--2024-11-26 14:02:37--  https://drive.usercontent.google.com/download?id=15x6qASDSgnl8wUZiuoPeUPV-poWj6n-t&export=download\n",
      "Resolving drive.usercontent.google.com (drive.usercontent.google.com)... 142.250.193.129, 2404:6800:4007:821::2001\n",
      "Connecting to drive.usercontent.google.com (drive.usercontent.google.com)|142.250.193.129|:443... connected.\n",
      "HTTP request sent, awaiting response... 200 OK\n",
      "Length: 87909784 (84M) [application/octet-stream]\n",
      "Saving to: ‘filename.zip’\n",
      "\n",
      "filename.zip        100%[===================>]  83.84M  1.05MB/s    in 87s     \n",
      "\n",
      "2024-11-26 14:04:11 (989 KB/s) - ‘filename.zip’ saved [87909784/87909784]\n",
      "\n"
     ]
    }
   ],
   "source": [
    "!wget --no-check-certificate 'https://drive.google.com/uc?export=download&id=15x6qASDSgnl8wUZiuoPeUPV-poWj6n-t' -O Model.zip"
   ]
  },
  {
   "cell_type": "code",
   "execution_count": 11,
   "id": "4c571bbd-2f51-4b37-8a4e-f260c8ef8290",
   "metadata": {},
   "outputs": [
    {
     "name": "stdout",
     "output_type": "stream",
     "text": [
      "UnZip 6.00 of 20 April 2009, by Debian. Original by Info-ZIP.\n",
      "\n",
      "Usage: unzip [-Z] [-opts[modifiers]] file[.zip] [list] [-x xlist] [-d exdir]\n",
      "  Default action is to extract files in list, except those in xlist, to exdir;\n",
      "  file[.zip] may be a wildcard.  -Z => ZipInfo mode (\"unzip -Z\" for usage).\n",
      "\n",
      "  -p  extract files to pipe, no messages     -l  list files (short format)\n",
      "  -f  freshen existing files, create none    -t  test compressed archive data\n",
      "  -u  update files, create if necessary      -z  display archive comment only\n",
      "  -v  list verbosely/show version info       -T  timestamp archive to latest\n",
      "  -x  exclude files that follow (in xlist)   -d  extract files into exdir\n",
      "modifiers:\n",
      "  -n  never overwrite existing files         -q  quiet mode (-qq => quieter)\n",
      "  -o  overwrite files WITHOUT prompting      -a  auto-convert any text files\n",
      "  -j  junk paths (do not make directories)   -aa treat ALL files as text\n",
      "  -U  use escapes for all non-ASCII Unicode  -UU ignore any Unicode fields\n",
      "  -C  match filenames case-insensitively     -L  make (some) names lowercase\n",
      "  -X  restore UID/GID info                   -V  retain VMS version numbers\n",
      "  -K  keep setuid/setgid/tacky permissions   -M  pipe through \"more\" pager\n",
      "  -O CHARSET  specify a character encoding for DOS, Windows and OS/2 archives\n",
      "  -I CHARSET  specify a character encoding for UNIX and other archives\n",
      "\n",
      "See \"unzip -hh\" or unzip.txt for more help.  Examples:\n",
      "  unzip data1 -x joe   => extract all files except joe from zipfile data1.zip\n",
      "  unzip -p foo | more  => send contents of foo.zip via pipe into program more\n",
      "  unzip -fo foo ReadMe => quietly replace existing ReadMe if archive file newer\n"
     ]
    }
   ],
   "source": [
    "!unzip  filename.zip"
   ]
  },
  {
   "cell_type": "code",
   "execution_count": 3,
   "id": "56a940f9-9bf9-4323-b4eb-1ab1f87c8747",
   "metadata": {},
   "outputs": [
    {
     "name": "stderr",
     "output_type": "stream",
     "text": [
      "WARNING:absl:Compiled the loaded model, but the compiled metrics have yet to be built. `model.compile_metrics` will be empty until you train or evaluate the model.\n"
     ]
    }
   ],
   "source": [
    "import numpy as np\n",
    "import tensorflow as tf\n",
    "from tensorflow.keras.models import load_model\n",
    "from tensorflow.keras.preprocessing import image\n",
    "\n",
    "model = load_model('Model/InceptionV3_improved.h5')\n",
    "\n",
    "\n",
    "\n",
    "\n",
    "def test_with_sample_image(img_path):\n",
    "    img = image.load_img(img_path, target_size=(299, 299))\n",
    "    img_array = image.img_to_array(img)\n",
    "    img_array = np.expand_dims(img_array, axis=0)\n",
    "    img_array = tf.keras.applications.inception_v3.preprocess_input(img_array)\n",
    "    \n",
    "    prediction = model.predict(img_array)\n",
    "    class_index = np.argmax(prediction)\n",
    "    \n",
    "    label_map = {0: 'COVID', 1: 'Normal', 2: 'Pneumonia'}\n",
    "    return label_map[class_index]"
   ]
  },
  {
   "cell_type": "code",
   "execution_count": 4,
   "id": "6c92df35-53d1-4fa7-8ef0-746dac0af7aa",
   "metadata": {},
   "outputs": [
    {
     "name": "stdout",
     "output_type": "stream",
     "text": [
      "\u001b[1m1/1\u001b[0m \u001b[32m━━━━━━━━━━━━━━━━━━━━\u001b[0m\u001b[37m\u001b[0m \u001b[1m1s\u001b[0m 1s/step\n",
      "The model predicts: COVID\n"
     ]
    }
   ],
   "source": [
    "sample_img = 'segmented_masks/COVID2_CT/25847 (2).jpg' \n",
    "result = test_with_sample_image(sample_img)\n",
    "print(f\"The model predicts: {result}\")"
   ]
  },
  {
   "cell_type": "code",
   "execution_count": 5,
   "id": "d9b292e6-5c82-49b1-b097-4df3d5e7958b",
   "metadata": {},
   "outputs": [
    {
     "name": "stdout",
     "output_type": "stream",
     "text": [
      "\u001b[1m1/1\u001b[0m \u001b[32m━━━━━━━━━━━━━━━━━━━━\u001b[0m\u001b[37m\u001b[0m \u001b[1m0s\u001b[0m 65ms/step\n",
      "The model predicts: Normal\n"
     ]
    }
   ],
   "source": [
    "sample_img = 'segmented_masks/Normal_CT/23985k (24).jpg' \n",
    "result = test_with_sample_image(sample_img)\n",
    "print(f\"The model predicts: {result}\")"
   ]
  },
  {
   "cell_type": "code",
   "execution_count": 6,
   "id": "53d4e3ff-23a3-4e4a-8efb-b03383091274",
   "metadata": {},
   "outputs": [
    {
     "name": "stdout",
     "output_type": "stream",
     "text": [
      "\u001b[1m1/1\u001b[0m \u001b[32m━━━━━━━━━━━━━━━━━━━━\u001b[0m\u001b[37m\u001b[0m \u001b[1m0s\u001b[0m 64ms/step\n",
      "The model predicts: Pneumonia\n"
     ]
    }
   ],
   "source": [
    "sample_img = 'segmented_masks/pneumonia_CT/1 (11).jpg' \n",
    "result = test_with_sample_image(sample_img)\n",
    "print(f\"The model predicts: {result}\")"
   ]
  },
  {
   "cell_type": "code",
   "execution_count": null,
   "id": "d480ecf7-29a0-43a7-a77d-02a1c4db3bcc",
   "metadata": {},
   "outputs": [],
   "source": []
  }
 ],
 "metadata": {
  "kernelspec": {
   "display_name": "Python 3 (ipykernel)",
   "language": "python",
   "name": "python3"
  },
  "language_info": {
   "codemirror_mode": {
    "name": "ipython",
    "version": 3
   },
   "file_extension": ".py",
   "mimetype": "text/x-python",
   "name": "python",
   "nbconvert_exporter": "python",
   "pygments_lexer": "ipython3",
   "version": "3.12.3"
  }
 },
 "nbformat": 4,
 "nbformat_minor": 5
}
